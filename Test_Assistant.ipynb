{
 "cells": [
  {
   "cell_type": "code",
   "execution_count": 3,
   "id": "2aa96263-c40f-4528-8b7f-43ff61e9b990",
   "metadata": {},
   "outputs": [],
   "source": [
    "import os\n",
    "from openai import OpenAI\n",
    "\n",
    "client = OpenAI(api_key=OPENAI_API_KEY)\n",
    "\n",
    "messages=[\n",
    "        {\n",
    "            \"role\": \"user\",\n",
    "            \"content\": \"You are writing tests for my code\",\n",
    "        }\n",
    "    ]"
   ]
  },
  {
   "cell_type": "code",
   "execution_count": 5,
   "id": "fdb8b920-b732-4c49-955f-1172efe5a249",
   "metadata": {},
   "outputs": [],
   "source": [
    "assistant = client.beta.assistants.create(\n",
    "  name=\"Code Tester\",\n",
    "  instructions=\"You are a personal assistant to help me create tests for my code functions. Run my code and create tests.\",\n",
    "  tools=[{\"type\": \"code_interpreter\"}],\n",
    "  model=\"gpt-4o\",\n",
    ")"
   ]
  },
  {
   "cell_type": "code",
   "execution_count": 6,
   "id": "5df2b8ec-f46a-40de-b8b5-5fb6cfc99060",
   "metadata": {},
   "outputs": [],
   "source": [
    "thread = client.beta.threads.create()"
   ]
  },
  {
   "cell_type": "code",
   "execution_count": 7,
   "id": "8e2d8698-6953-4b63-8369-776d6053a3ce",
   "metadata": {},
   "outputs": [],
   "source": [
    "message = client.beta.threads.messages.create(\n",
    "  thread_id=thread.id,\n",
    "  role=\"user\",\n",
    "  content=\"Please generate a test in python that tests my python function :def reverse_string(text): return text[::-1]\"\n",
    ")"
   ]
  },
  {
   "cell_type": "code",
   "execution_count": 8,
   "id": "308effe0-df9b-4263-8c6c-157920e1800f",
   "metadata": {},
   "outputs": [
    {
     "name": "stdout",
     "output_type": "stream",
     "text": [
      "\n",
      "assistant > Certainly, Jane Doe! To test the `reverse_string` function, we can use Python's built-in `unittest` framework. Below is an example of how you can write a test case for the `reverse_string` function.\n",
      "\n",
      "```python\n",
      "import unittest\n",
      "\n",
      "def reverse_string(text):\n",
      "    return text[::-1]\n",
      "\n",
      "class TestReverseString(unittest.TestCase):\n",
      "    def test_reverse_string(self):\n",
      "        # Test with a normal string\n",
      "        self.assertEqual(reverse_string(\"hello\"), \"olleh\")\n",
      "        \n",
      "        # Test with an empty string\n",
      "        self.assertEqual(reverse_string(\"\"), \"\")\n",
      "        \n",
      "        # Test with a single character\n",
      "        self.assertEqual(reverse_string(\"a\"), \"a\")\n",
      "        \n",
      "        # Test with a palindrome\n",
      "        self.assertEqual(reverse_string(\"racecar\"), \"racecar\")\n",
      "        \n",
      "        # Test with spaces\n",
      "        self.assertEqual(reverse_string(\"hello world\"), \"dlrow olleh\")\n",
      "        \n",
      "        # Test with numbers and special characters\n",
      "        self.assertEqual(reverse_string(\"123 ABC!\"), \"!CBA 321\")\n",
      "        \n",
      "if __name__ == '__main__':\n",
      "    unittest.main()\n",
      "```\n",
      "\n",
      "This test suite covers several scenarios including:\n",
      "\n",
      "- A standard word\n",
      "- An empty string\n",
      "- A single character\n",
      "- A palindrome\n",
      "- A string with spaces\n",
      "- A string with numbers and special characters\n",
      "\n",
      "You can run this code in your Python environment to test your function. If all tests pass, it means your function is working as expected for these cases. Let me know if you need any more help!"
     ]
    }
   ],
   "source": [
    "from typing_extensions import override\n",
    "from openai import AssistantEventHandler\n",
    " \n",
    "# First, we create a EventHandler class to define\n",
    "# how we want to handle the events in the response stream.\n",
    " \n",
    "class EventHandler(AssistantEventHandler):    \n",
    "  @override\n",
    "  def on_text_created(self, text) -> None:\n",
    "    print(f\"\\nassistant > \", end=\"\", flush=True)\n",
    "      \n",
    "  @override\n",
    "  def on_text_delta(self, delta, snapshot):\n",
    "    print(delta.value, end=\"\", flush=True)\n",
    "      \n",
    "  def on_tool_call_created(self, tool_call):\n",
    "    print(f\"\\nassistant > {tool_call.type}\\n\", flush=True)\n",
    "  \n",
    "  def on_tool_call_delta(self, delta, snapshot):\n",
    "    if delta.type == 'code_interpreter':\n",
    "      if delta.code_interpreter.input:\n",
    "        print(delta.code_interpreter.input, end=\"\", flush=True)\n",
    "      if delta.code_interpreter.outputs:\n",
    "        print(f\"\\n\\noutput >\", flush=True)\n",
    "        for output in delta.code_interpreter.outputs:\n",
    "          if output.type == \"logs\":\n",
    "            print(f\"\\n{output.logs}\", flush=True)\n",
    " \n",
    "# Then, we use the `stream` SDK helper \n",
    "# with the `EventHandler` class to create the Run \n",
    "# and stream the response.\n",
    " \n",
    "with client.beta.threads.runs.stream(\n",
    "  thread_id=thread.id,\n",
    "  assistant_id=assistant.id,\n",
    "  instructions=\"Please address the user as Alessa. The user has a premium account.\",\n",
    "  event_handler=EventHandler(),\n",
    ") as stream:\n",
    "  stream.until_done()"
   ]
  },
  {
   "cell_type": "code",
   "execution_count": null,
   "id": "707a1f8c-6b92-4322-8e2f-97abb70a378e",
   "metadata": {},
   "outputs": [],
   "source": []
  }
 ],
 "metadata": {
  "kernelspec": {
   "display_name": "Python 3 (ipykernel)",
   "language": "python",
   "name": "python3"
  },
  "language_info": {
   "codemirror_mode": {
    "name": "ipython",
    "version": 3
   },
   "file_extension": ".py",
   "mimetype": "text/x-python",
   "name": "python",
   "nbconvert_exporter": "python",
   "pygments_lexer": "ipython3",
   "version": "3.8.15"
  }
 },
 "nbformat": 4,
 "nbformat_minor": 5
}
